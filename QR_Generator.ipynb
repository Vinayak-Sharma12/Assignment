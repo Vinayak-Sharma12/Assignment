{
  "nbformat": 4,
  "nbformat_minor": 0,
  "metadata": {
    "colab": {
      "provenance": [],
      "authorship_tag": "ABX9TyPXmbU2DA/6Si0OJeI/pfDF",
      "include_colab_link": true
    },
    "kernelspec": {
      "name": "python3",
      "display_name": "Python 3"
    },
    "language_info": {
      "name": "python"
    }
  },
  "cells": [
    {
      "cell_type": "markdown",
      "metadata": {
        "id": "view-in-github",
        "colab_type": "text"
      },
      "source": [
        "<a href=\"https://colab.research.google.com/github/Vinayak-Sharma12/Assignment/blob/main/QR_Generator.ipynb\" target=\"_parent\"><img src=\"https://colab.research.google.com/assets/colab-badge.svg\" alt=\"Open In Colab\"/></a>"
      ]
    },
    {
      "cell_type": "markdown",
      "source": [
        "### ***QR CODE GENERATOR***"
      ],
      "metadata": {
        "id": "Kh-jqfTFYP6i"
      }
    },
    {
      "cell_type": "markdown",
      "source": [
        "**BY VINAYAK SHARMA**"
      ],
      "metadata": {
        "id": "6X0oWk0lYq9m"
      }
    },
    {
      "cell_type": "code",
      "source": [
        "#INSTALLING IMPORTANT LIBRARY\n",
        "!pip install pyqrcode pypng"
      ],
      "metadata": {
        "colab": {
          "base_uri": "https://localhost:8080/"
        },
        "id": "pqeUA8WPYy9y",
        "outputId": "da2fc9a2-88e8-4261-f66e-5c22adde6088"
      },
      "execution_count": 1,
      "outputs": [
        {
          "output_type": "stream",
          "name": "stdout",
          "text": [
            "Collecting pyqrcode\n",
            "  Downloading PyQRCode-1.2.1.zip (41 kB)\n",
            "\u001b[2K     \u001b[90m━━━━━━━━━━━━━━━━━━━━━━━━━━━━━━━━━━━━━━━━\u001b[0m \u001b[32m41.9/41.9 kB\u001b[0m \u001b[31m4.8 MB/s\u001b[0m eta \u001b[36m0:00:00\u001b[0m\n",
            "\u001b[?25h  Preparing metadata (setup.py) ... \u001b[?25l\u001b[?25hdone\n",
            "Collecting pypng\n",
            "  Downloading pypng-0.20220715.0-py3-none-any.whl (58 kB)\n",
            "\u001b[2K     \u001b[90m━━━━━━━━━━━━━━━━━━━━━━━━━━━━━━━━━━━━━━━━\u001b[0m \u001b[32m58.1/58.1 kB\u001b[0m \u001b[31m6.8 MB/s\u001b[0m eta \u001b[36m0:00:00\u001b[0m\n",
            "\u001b[?25hBuilding wheels for collected packages: pyqrcode\n",
            "  Building wheel for pyqrcode (setup.py) ... \u001b[?25l\u001b[?25hdone\n",
            "  Created wheel for pyqrcode: filename=PyQRCode-1.2.1-py3-none-any.whl size=36228 sha256=e769c7abfbb40d7a0735a74e68b90f248da1648441f6b992b9f60fe9ed0ae76a\n",
            "  Stored in directory: /root/.cache/pip/wheels/34/2d/20/082874e49a32cdcc87ebaf99dd0099fb7774ef30f010dfb6f2\n",
            "Successfully built pyqrcode\n",
            "Installing collected packages: pyqrcode, pypng\n",
            "Successfully installed pypng-0.20220715.0 pyqrcode-1.2.1\n"
          ]
        }
      ]
    },
    {
      "cell_type": "markdown",
      "source": [
        "Pyqrcode library allows you to create QR code\n"
      ],
      "metadata": {
        "id": "YkL-LYqHZKKk"
      }
    },
    {
      "cell_type": "markdown",
      "source": [
        "pypng - It is used for creating,reading and manipulating PNG"
      ],
      "metadata": {
        "id": "5F8nU2fYZlL8"
      }
    },
    {
      "cell_type": "code",
      "source": [
        "#IMPORTING LIBRARY\n",
        "import pyqrcode"
      ],
      "metadata": {
        "id": "r4VgLOOYZx1T"
      },
      "execution_count": 2,
      "outputs": []
    },
    {
      "cell_type": "code",
      "source": [
        "#CODE FOR GENERATING QR\n",
        "#We need data that we want to convert into Qr code\n",
        "data=\"https://github.com/Vinayak-Sharma12\"\n",
        "#Now Create and save QR code\n",
        "qr=pyqrcode.create(data)\n",
        "qr.png(\"gitHub.png\",scale=5)"
      ],
      "metadata": {
        "id": "2FxTVi2faXPC"
      },
      "execution_count": 4,
      "outputs": []
    }
  ]
}