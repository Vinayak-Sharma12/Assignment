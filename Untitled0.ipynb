{
  "nbformat": 4,
  "nbformat_minor": 0,
  "metadata": {
    "colab": {
      "provenance": [],
      "authorship_tag": "ABX9TyNx32HHppkG4Cx5+hbxnvSa",
      "include_colab_link": true
    },
    "kernelspec": {
      "name": "python3",
      "display_name": "Python 3"
    },
    "language_info": {
      "name": "python"
    }
  },
  "cells": [
    {
      "cell_type": "markdown",
      "metadata": {
        "id": "view-in-github",
        "colab_type": "text"
      },
      "source": [
        "<a href=\"https://colab.research.google.com/github/Vinayak-Sharma12/Assignment/blob/main/Untitled0.ipynb\" target=\"_parent\"><img src=\"https://colab.research.google.com/assets/colab-badge.svg\" alt=\"Open In Colab\"/></a>"
      ]
    },
    {
      "cell_type": "markdown",
      "source": [],
      "metadata": {
        "id": "edcwqoP65vEA"
      }
    },
    {
      "cell_type": "code",
      "execution_count": null,
      "metadata": {
        "colab": {
          "base_uri": "https://localhost:8080/"
        },
        "id": "d2a5s48U5t2Z",
        "outputId": "7e68879a-77af-4d26-a994-fb8bca1d7082"
      },
      "outputs": [
        {
          "output_type": "stream",
          "name": "stdout",
          "text": [
            "Original List ---->   [11, 12, 13, 14]\n",
            "List after adding ---->   [11, 12, 13, 14, 50, 60]\n",
            "List after removing ---->   [12, 14, 50, 60]\n",
            "List after sorting in ascending order ---->   [12, 14, 50, 60]\n",
            "List after sorting in descending order ---->   [60, 50, 14, 12]\n",
            "13 is not present in the List.\n",
            "Number of elements in the List are  4\n",
            "Summation of all the elements in the List is  136\n",
            "List is --->   [60, 50, 14, 12]\n",
            "The sum of odd values is  0\n",
            "List is --->   [60, 50, 14, 12]\n",
            "The sum of even values is  136\n",
            "List is ---->   [60, 50, 14, 12]\n",
            "The sum of Prime numbers in the list is  0\n",
            "Original List ---->   [60, 50, 14, 12]\n",
            "List now ---->   []\n"
          ]
        }
      ],
      "source": [
        "L=[11,12,13,14]\n",
        "print(\"Original List ---->  \",L)\n",
        "\n",
        "L.append(50)\n",
        "L.append(60)\n",
        "print(\"List after adding ---->  \",L)\n",
        "\n",
        "del L[0]\n",
        "del L[1]\n",
        "print(\"List after removing ---->  \",L)\n",
        "\n",
        "L.sort()\n",
        "print(\"List after sorting in ascending order ---->  \",L)\n",
        "\n",
        "L.sort(reverse=True)\n",
        "print(\"List after sorting in descending order ---->  \",L)\n",
        "\n",
        "if 13 in L == True:\n",
        "  print(\"13 is Present in the List.\")\n",
        "else:\n",
        "  print(\"13 is not present in the List.\")\n",
        "\n",
        "print(\"Number of elements in the List are \",len(L))\n",
        "\n",
        "print(\"Summation of all the elements in the List is \",sum(L))\n",
        "\n",
        "odd_sum=0\n",
        "for i in range(len(L)):\n",
        "  if L[i]%2==1:\n",
        "    odd_sum=odd_sum+L[i]\n",
        "    break\n",
        "print(\"List is --->  \",L)\n",
        "print(\"The sum of odd values is \",odd_sum)\n",
        "\n",
        "even_sum=0\n",
        "for i in range(len(L)):\n",
        "  if L[i]%2==0:\n",
        "    even_sum=even_sum+L[i]\n",
        "    \n",
        "print(\"List is --->  \",L)\n",
        "print(\"The sum of even values is \",even_sum)\n",
        "\n",
        "f=0\n",
        "for i in range(2,len(L)):\n",
        "  if L[i]%i==0:\n",
        "    f=1\n",
        "    break\n",
        "prime_sum=0\n",
        "for i in range(len(L)):\n",
        "  if f==0:\n",
        "    prime_sum=prime_sum+L[i]\n",
        "print(\"List is ---->  \",L)\n",
        "print(\"The sum of Prime numbers in the list is \",prime_sum)\n",
        "\n",
        "print(\"Original List ---->  \",L)\n",
        "L.clear()\n",
        "print(\"List now ---->  \",L)\n",
        "\n",
        "del L"
      ]
    },
    {
      "cell_type": "code",
      "source": [
        "D= {1:5.6, 2:7.8, 3:6.6, 4:8.7, 5:7.7}\n",
        "print(\"Original Dictionary ---->  \",D)\n",
        "\n",
        "D[8]=8.8\n",
        "print(\"Dictionary after updating (8) ---->  \",D)\n",
        "\n",
        "del D[2]\n",
        "print(\"Dictionary after updating ---->  \",D)\n",
        "\n",
        "print(\"Is key 6 is present? --->\",6 in D)\n",
        "count = len(D)\n",
        "print(\"Number of elements in D:\", count)\n",
        "total = sum(D.values())\n",
        "print(\"Sum of values in D:\", total)\n",
        "D[3] = 7.1\n",
        "print(\"Updated D:\", D)\n",
        "D.clear()\n",
        "print(\"Cleared D:\", D)\n",
        "\n",
        "\n",
        "\n"
      ],
      "metadata": {
        "colab": {
          "base_uri": "https://localhost:8080/"
        },
        "id": "VS4u9JpC6UTz",
        "outputId": "ad4bd491-123c-4ede-b176-5e141746e553"
      },
      "execution_count": null,
      "outputs": [
        {
          "output_type": "stream",
          "name": "stdout",
          "text": [
            "Original Dictionary ---->   {1: 5.6, 2: 7.8, 3: 6.6, 4: 8.7, 5: 7.7}\n",
            "Dictionary after updating (8) ---->   {1: 5.6, 2: 7.8, 3: 6.6, 4: 8.7, 5: 7.7, 8: 8.8}\n",
            "Dictionary after updating ---->   {1: 5.6, 3: 6.6, 4: 8.7, 5: 7.7, 8: 8.8}\n",
            "Is key 6 is present? ---> False\n",
            "Number of elements in D: 5\n",
            "Sum of values in D: 37.4\n",
            "Updated D: {1: 5.6, 3: 7.1, 4: 8.7, 5: 7.7, 8: 8.8}\n",
            "Cleared D: {}\n"
          ]
        }
      ]
    },
    {
      "cell_type": "code",
      "source": [
        "S1 = {10, 20, 30, 40, 50, 60}\n",
        "S2 = {40, 50, 60, 70, 80, 90}\n",
        "\n",
        "# (i) Add 55 and 66 in Set S1\n",
        "S1.add(55)\n",
        "S1.add(66)\n",
        "print(\"Updated S1:\", S1)\n",
        "\n",
        "# (ii) Remove 10 and 30 from Set S1\n",
        "S1.remove(10)\n",
        "S1.remove(30)\n",
        "print(\"Updated S1:\", S1)\n",
        "\n",
        "# (iii) Check whether 40 is present in S1\n",
        "if 40 in S1:\n",
        "    print(\"40 is present in S1\")\n",
        "else:\n",
        "    print(\"40 is not present in S1\")\n",
        "\n",
        "# (iv) Find the union between S1 and S2\n",
        "union = S1.union(S2)\n",
        "print(\"Union of S1 and S2:\", union)\n",
        "\n",
        "# (v) Find the intersection between S1 and S2\n",
        "intersection = S1.intersection(S2)\n",
        "print(\"Intersection of S1 and S2:\", intersection)\n",
        "\n",
        "# (vi) Find S1 - S2\n",
        "difference = S1 - S2\n",
        "print(\"S1 - S2:\", difference)\n"
      ],
      "metadata": {
        "colab": {
          "base_uri": "https://localhost:8080/"
        },
        "id": "Ci1_-uxa_XFO",
        "outputId": "70ec291b-a704-42cd-f397-c25f961dd3ef"
      },
      "execution_count": null,
      "outputs": [
        {
          "output_type": "stream",
          "name": "stdout",
          "text": [
            "Updated S1: {50, 66, 20, 55, 40, 10, 60, 30}\n",
            "Updated S1: {50, 66, 20, 55, 40, 60}\n",
            "40 is present in S1\n",
            "Union of S1 and S2: {66, 70, 40, 80, 50, 20, 55, 90, 60}\n",
            "Intersection of S1 and S2: {40, 50, 60}\n",
            "S1 - S2: {66, 20, 55}\n"
          ]
        }
      ]
    },
    {
      "cell_type": "code",
      "source": [
        "import random\n",
        "import string\n",
        "\n",
        "for _ in range(100):\n",
        "    length = random.randint(6, 8)\n",
        "    random_string = ''.join(random.choices(string.ascii_lowercase, k=length))\n",
        "    print(random_string)\n",
        "for num in range(600, 801):\n",
        "    if all(num % i != 0 for i in range(2, int(num**0.5) + 1)):\n",
        "        print(num)\n",
        "for num in range(100, 1001):\n",
        "    if num % 7 == 0 and num % 9 == 0:\n",
        "        print(num)\n"
      ],
      "metadata": {
        "colab": {
          "base_uri": "https://localhost:8080/"
        },
        "id": "FMX4FKTx_jc-",
        "outputId": "0321f259-1503-400f-e689-8ec9816378a5"
      },
      "execution_count": null,
      "outputs": [
        {
          "output_type": "stream",
          "name": "stdout",
          "text": [
            "wftqjxxs\n",
            "jirhifjj\n",
            "exfpogj\n",
            "wnmnmiis\n",
            "fmqmrn\n",
            "rewgkeze\n",
            "tjcdblwn\n",
            "upehvks\n",
            "wgoggszo\n",
            "cxutfm\n",
            "scrvhve\n",
            "vlwvjvzl\n",
            "rffsqivy\n",
            "tbqrfdn\n",
            "ynanxa\n",
            "udeqjaz\n",
            "eumybxa\n",
            "ikkvcsj\n",
            "ciqtjkvb\n",
            "ekutar\n",
            "mybyzhup\n",
            "qdynzr\n",
            "faewyhxh\n",
            "mwobyyw\n",
            "ecdfrbnw\n",
            "qsvksx\n",
            "ejuciij\n",
            "pcpsbrlv\n",
            "ngbaqitj\n",
            "zxaiff\n",
            "jppxfzzj\n",
            "mevtbi\n",
            "ewpuxfao\n",
            "yktwpo\n",
            "ojpzeaha\n",
            "vhdcdz\n",
            "tsjewz\n",
            "ijncbjv\n",
            "tnuyyc\n",
            "lvwuaziy\n",
            "zlpzys\n",
            "bbztgdge\n",
            "dcxrknur\n",
            "jnpzyhfk\n",
            "iqphpfcg\n",
            "tljvujlv\n",
            "whrtnvgc\n",
            "dxvqemv\n",
            "juufxanw\n",
            "buuxmw\n",
            "vvdflu\n",
            "seuiwe\n",
            "xjutamo\n",
            "syhaqywv\n",
            "mnmjyovl\n",
            "wlclio\n",
            "wdrjlskk\n",
            "tdfvws\n",
            "rwlofif\n",
            "kvycrxyn\n",
            "ucjpnjwe\n",
            "byttctqh\n",
            "jhrofnmn\n",
            "tpubyk\n",
            "cepino\n",
            "qwuphhj\n",
            "ncflwrep\n",
            "wqpbit\n",
            "skwrayve\n",
            "aemysr\n",
            "qtuhdwhg\n",
            "jvavfowx\n",
            "wxkvhen\n",
            "qdcckg\n",
            "hrfqpla\n",
            "nplhia\n",
            "zldtgch\n",
            "axpukw\n",
            "brqeski\n",
            "qgrqeqm\n",
            "rojwrz\n",
            "beckzsw\n",
            "mxpkrnc\n",
            "jvlfzmg\n",
            "xlcqqmls\n",
            "xrtxad\n",
            "cncbyzpb\n",
            "zjnyix\n",
            "znbjegm\n",
            "pjgkubk\n",
            "maqxuvkr\n",
            "tlpdvunb\n",
            "vidznj\n",
            "nvnkxawp\n",
            "gbugzfqq\n",
            "upajxf\n",
            "lsgeeu\n",
            "xzmwglv\n",
            "emqgoyaq\n",
            "uhltxh\n",
            "601\n",
            "607\n",
            "613\n",
            "617\n",
            "619\n",
            "631\n",
            "641\n",
            "643\n",
            "647\n",
            "653\n",
            "659\n",
            "661\n",
            "673\n",
            "677\n",
            "683\n",
            "691\n",
            "701\n",
            "709\n",
            "719\n",
            "727\n",
            "733\n",
            "739\n",
            "743\n",
            "751\n",
            "757\n",
            "761\n",
            "769\n",
            "773\n",
            "787\n",
            "797\n",
            "126\n",
            "189\n",
            "252\n",
            "315\n",
            "378\n",
            "441\n",
            "504\n",
            "567\n",
            "630\n",
            "693\n",
            "756\n",
            "819\n",
            "882\n",
            "945\n"
          ]
        }
      ]
    },
    {
      "cell_type": "code",
      "source": [
        "import random\n",
        "\n",
        "# Create two lists of 10 random numbers between 10 and 30\n",
        "list1 = random.sample(range(10, 31), 10)\n",
        "list2 = random.sample(range(10, 31), 10)\n",
        "\n",
        "print(\"List 1:\", list1)\n",
        "print(\"List 2:\", list2)\n",
        "\n",
        "# (i) Find common numbers in the two lists\n",
        "common_numbers = set(list1).intersection(list2)\n",
        "print(\"Common numbers:\", common_numbers)\n",
        "\n",
        "# (ii) Find unique numbers in both lists\n",
        "unique_numbers = set(list1).symmetric_difference(list2)\n",
        "print(\"Unique numbers:\", unique_numbers)\n",
        "\n",
        "# (iii) Find the minimum in both lists\n",
        "min_list1 = min(list1)\n",
        "min_list2 = min(list2)\n",
        "print(\"Minimum in List 1:\", min_list1)\n",
        "print(\"Minimum in List 2:\", min_list2)\n",
        "\n",
        "# (iv) Find the maximum in both lists\n",
        "max_list1 = max(list1)\n",
        "max_list2 = max(list2)\n",
        "print(\"Maximum in List 1:\", max_list1)\n",
        "print(\"Maximum in List 2:\", max_list2)\n",
        "\n",
        "# (v) Find the sum of both lists\n",
        "sum_lists = sum(list1) + sum(list2)\n",
        "print(\"Sum of both lists:\", sum_lists)\n"
      ],
      "metadata": {
        "colab": {
          "base_uri": "https://localhost:8080/"
        },
        "id": "FKK7r5ztADeS",
        "outputId": "42ac1d4f-e917-4113-e0ce-677bca080b49"
      },
      "execution_count": null,
      "outputs": [
        {
          "output_type": "stream",
          "name": "stdout",
          "text": [
            "List 1: [22, 11, 14, 16, 18, 17, 23, 12, 28, 15]\n",
            "List 2: [25, 10, 12, 17, 21, 20, 27, 29, 22, 16]\n",
            "Common numbers: {16, 17, 12, 22}\n",
            "Unique numbers: {10, 11, 14, 15, 18, 20, 21, 23, 25, 27, 28, 29}\n",
            "Minimum in List 1: 11\n",
            "Minimum in List 2: 10\n",
            "Maximum in List 1: 28\n",
            "Maximum in List 2: 29\n",
            "Sum of both lists: 375\n"
          ]
        }
      ]
    },
    {
      "cell_type": "code",
      "source": [
        "import random\n",
        "\n",
        "# Create a list of 100 random numbers between 100 and 900\n",
        "random_list = random.sample(range(100, 901), 100)\n",
        "\n",
        "# (i) Count and print all odd numbers\n",
        "odd_numbers = [num for num in random_list if num % 2 != 0]\n",
        "print(\"Odd numbers:\")\n",
        "for num in odd_numbers:\n",
        "    print(num, end=\" \")\n",
        "print(\"\\nCount of odd numbers:\", len(odd_numbers))\n",
        "\n",
        "# (ii) Count and print all even numbers\n",
        "even_numbers = [num for num in random_list if num % 2 == 0]\n",
        "print(\"\\nEven numbers:\")\n",
        "for num in even_numbers:\n",
        "    print(num, end=\" \")\n",
        "print(\"\\nCount of even numbers:\", len(even_numbers))\n",
        "\n",
        "# (iii) Count and print all prime numbers\n",
        "def is_prime(num):\n",
        "    if num < 2:\n",
        "        return False\n",
        "    for i in range(2, int(num**0.5) + 1):\n",
        "        if num % i == 0:\n",
        "            return False\n",
        "    return True\n",
        "\n",
        "prime_numbers = [num for num in random_list if is_prime(num)]\n",
        "print(\"\\nPrime numbers:\")\n",
        "for num in prime_numbers:\n",
        "    print(num, end=\" \")\n",
        "print(\"\\nCount of prime numbers:\", len(prime_numbers))\n"
      ],
      "metadata": {
        "colab": {
          "base_uri": "https://localhost:8080/"
        },
        "id": "7xm3gtJAAPiV",
        "outputId": "47c48262-c181-482b-9c55-6ac51c344a58"
      },
      "execution_count": null,
      "outputs": [
        {
          "output_type": "stream",
          "name": "stdout",
          "text": [
            "Odd numbers:\n",
            "163 347 339 111 145 705 359 241 537 559 317 167 417 413 421 731 823 465 881 153 687 763 567 837 855 565 235 757 821 267 487 277 367 619 185 473 165 789 581 781 299 101 147 443 605 699 323 669 \n",
            "Count of odd numbers: 48\n",
            "\n",
            "Even numbers:\n",
            "208 588 478 398 630 254 148 246 538 858 212 128 804 162 626 448 460 606 718 476 746 232 532 306 560 802 832 710 258 366 202 842 618 430 378 210 418 744 644 530 358 200 844 410 852 886 456 350 716 772 112 348 \n",
            "Count of even numbers: 52\n",
            "\n",
            "Prime numbers:\n",
            "163 347 359 241 317 167 421 823 881 757 821 487 277 367 619 101 443 \n",
            "Count of prime numbers: 17\n"
          ]
        }
      ]
    },
    {
      "cell_type": "code",
      "source": [
        "D = {1: \"One\", 2: \"Two\", 3: \"Three\", 4: \"Four\", 5: \"Five\"}\n",
        "\n",
        "# Open the file in write mode\n",
        "with open(\"output.txt\", \"w\") as file:\n",
        "    # Iterate over the dictionary items\n",
        "    for key, value in D.items():\n",
        "        # Write the key-value pair to the file in the specified format\n",
        "        file.write(f\"{key}, {value}\\n\")\n"
      ],
      "metadata": {
        "id": "5ImKQgIwAtac"
      },
      "execution_count": null,
      "outputs": []
    },
    {
      "cell_type": "code",
      "source": [
        "L = [\"One\", \"Two\", \"Three\", \"Four\", \"Five\"]\n",
        "\n",
        "# Open the file in write mode\n",
        "with open(\"element_lengths.txt\", \"w\") as file:\n",
        "    # Iterate over each element in the list\n",
        "    for element in L:\n",
        "        # Calculate the length of the element\n",
        "        length = len(element)\n",
        "        # Write the element and its length to the file\n",
        "        file.write(f\"{element}, {length}\\n\")\n"
      ],
      "metadata": {
        "id": "KSf7SL9GA81O"
      },
      "execution_count": null,
      "outputs": []
    },
    {
      "cell_type": "code",
      "source": [
        "import random\n",
        "import string\n",
        "\n",
        "# Generate a random string with length between 10 and 15\n",
        "def generate_random_string():\n",
        "    length = random.randint(10, 15)\n",
        "    letters = string.ascii_lowercase\n",
        "    return ''.join(random.choice(letters) for _ in range(length))\n",
        "\n",
        "# Open the file in write mode\n",
        "with open(\"random_strings.txt\", \"w\") as file:\n",
        "    # Generate and write 100 random strings to the file\n",
        "    for _ in range(100):\n",
        "        random_string = generate_random_string()\n",
        "        file.write(random_string + \"\\n\")\n"
      ],
      "metadata": {
        "id": "t_S3jukkBHiD"
      },
      "execution_count": null,
      "outputs": []
    },
    {
      "cell_type": "code",
      "source": [
        "def is_prime(n):\n",
        "    \"\"\"Check if a number is prime.\"\"\"\n",
        "    if n < 2:\n",
        "        return False\n",
        "    for i in range(2, int(n**0.5) + 1):\n",
        "        if n % i == 0:\n",
        "            return False\n",
        "    return True\n",
        "\n",
        "# Open the file in write mode\n",
        "with open(\"prime_numbers.txt\", \"w\") as file:\n",
        "    # Find and write all prime numbers between 600 and 800\n",
        "    for num in range(600, 801):\n",
        "        if is_prime(num):\n",
        "            file.write(str(num) + \"\\n\")\n"
      ],
      "metadata": {
        "id": "-XEWRs3GBS3-"
      },
      "execution_count": null,
      "outputs": []
    },
    {
      "cell_type": "code",
      "source": [
        "import time\n",
        "\n",
        "# Start the timer\n",
        "start_time = time.time()\n",
        "\n",
        "# Your program code goes here\n",
        "# ...\n",
        "\n",
        "# End the timer\n",
        "end_time = time.time()\n",
        "\n",
        "# Calculate the elapsed time\n",
        "elapsed_time = end_time - start_time\n",
        "\n",
        "# Print the elapsed time in seconds\n",
        "print(f\"Time taken: {elapsed_time} seconds\")\n"
      ],
      "metadata": {
        "colab": {
          "base_uri": "https://localhost:8080/"
        },
        "id": "A6-I9sUxBewq",
        "outputId": "465b17c8-52e9-422e-d764-698f0b76916a"
      },
      "execution_count": null,
      "outputs": [
        {
          "output_type": "stream",
          "name": "stdout",
          "text": [
            "Time taken: 4.029273986816406e-05 seconds\n"
          ]
        }
      ]
    },
    {
      "cell_type": "code",
      "source": [
        "import time\n",
        "import matplotlib.pyplot as plt\n",
        "\n",
        "# Function to sort a list and measure the time taken\n",
        "def sort_list_time(num_elements):\n",
        "    # Generate a list with the specified number of elements\n",
        "    my_list = list(range(num_elements, 0, -1))\n",
        "\n",
        "    # Start the timer\n",
        "    start_time = time.time()\n",
        "\n",
        "    # Sort the list\n",
        "    my_list.sort()\n",
        "\n",
        "    # End the timer\n",
        "    end_time = time.time()\n",
        "\n",
        "    # Calculate the elapsed time\n",
        "    elapsed_time = end_time - start_time\n",
        "\n",
        "    return elapsed_time\n",
        "\n",
        "# Define the number of elements in the list\n",
        "num_elements_list = [5000, 10000, 15000, 20000, 25000]\n",
        "\n",
        "# List to store the time taken for each number of elements\n",
        "time_taken_list = []\n",
        "\n",
        "# Measure the time taken for each number of elements\n",
        "for num_elements in num_elements_list:\n",
        "    elapsed_time = sort_list_time(num_elements)\n",
        "    time_taken_list.append(elapsed_time)\n",
        "\n",
        "# Plot the graph\n",
        "plt.plot(num_elements_list, time_taken_list, marker='o')\n",
        "plt.xlabel(\"Number of Elements\")\n",
        "plt.ylabel(\"Time Taken (seconds)\")\n",
        "plt.title(\"Time Taken to Sort a List\")\n",
        "plt.show()\n",
        "\n"
      ],
      "metadata": {
        "colab": {
          "base_uri": "https://localhost:8080/",
          "height": 472
        },
        "id": "ydd8NwnMBpmo",
        "outputId": "1d4285b1-92b6-4384-c414-2f4271c0f386"
      },
      "execution_count": null,
      "outputs": [
        {
          "output_type": "display_data",
          "data": {
            "text/plain": [
              "<Figure size 640x480 with 1 Axes>"
            ],
            "image/png": "[encoded data removed]"
          },
          "metadata": {}
        }
      ]
    },
    {
      "cell_type": "code",
      "source": [
        "# Dictionary of student marks\n",
        "student_marks = {\n",
        "    \"John\": [85, 92, 78, 90, 88],\n",
        "    \"Emma\": [77, 80, 85, 79, 92],\n",
        "    \"Michael\": [90, 88, 93, 87, 82],\n",
        "    \"Sophia\": [82, 89, 95, 78, 91],\n",
        "    \"William\": [88, 91, 84, 79, 83]\n",
        "}\n",
        "\n",
        "# Calculate the average marks for each student\n",
        "average_marks = {}\n",
        "for student, marks in student_marks.items():\n",
        "    average_marks[student] = sum(marks) / len(marks)\n",
        "\n",
        "# Find the student with maximum average mark\n",
        "max_student = max(average_marks, key=average_marks.get)\n",
        "max_average_mark = average_marks[max_student]\n",
        "\n",
        "# Find the student with minimum average mark\n",
        "min_student = min(average_marks, key=average_marks.get)\n",
        "min_average_mark = average_marks[min_student]\n",
        "\n",
        "# Print the results\n",
        "print(\"Student with Maximum Average Mark:\")\n",
        "print(\"Name:\", max_student)\n",
        "print(\"Average Mark:\", max_average_mark)\n",
        "print()\n",
        "print(\"Student with Minimum Average Mark:\")\n",
        "print(\"Name:\", min_student)\n",
        "print(\"Average Mark:\", min_average_mark)\n"
      ],
      "metadata": {
        "colab": {
          "base_uri": "https://localhost:8080/"
        },
        "id": "ad3pdZYrBxk9",
        "outputId": "d9485895-0176-40db-b5c9-98f2aa5249d1"
      },
      "execution_count": null,
      "outputs": [
        {
          "output_type": "stream",
          "name": "stdout",
          "text": [
            "Student with Maximum Average Mark:\n",
            "Name: Michael\n",
            "Average Mark: 88.0\n",
            "\n",
            "Student with Minimum Average Mark:\n",
            "Name: Emma\n",
            "Average Mark: 82.6\n"
          ]
        }
      ]
    }
  ]
}