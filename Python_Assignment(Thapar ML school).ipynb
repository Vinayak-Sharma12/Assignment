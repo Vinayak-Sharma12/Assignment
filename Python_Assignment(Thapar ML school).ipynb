{
  "nbformat": 4,
  "nbformat_minor": 0,
  "metadata": {
    "colab": {
      "provenance": [],
      "authorship_tag": "ABX9TyN+jmgGwFiLcrpGHRy7EpBC",
      "include_colab_link": true
    },
    "kernelspec": {
      "name": "python3",
      "display_name": "Python 3"
    },
    "language_info": {
      "name": "python"
    }
  },
  "cells": [
    {
      "cell_type": "markdown",
      "metadata": {
        "id": "view-in-github",
        "colab_type": "text"
      },
      "source": [
        "<a href=\"https://colab.research.google.com/github/Vinayak-Sharma12/Assignment/blob/main/Python_Assignment(Thapar%20ML%20school).ipynb\" target=\"_parent\"><img src=\"https://colab.research.google.com/assets/colab-badge.svg\" alt=\"Open In Colab\"/></a>"
      ]
    },
    {
      "cell_type": "markdown",
      "source": [
        "# **THAPAR SUMMER SCHOOL PYTHON ASSIGNMENT**"
      ],
      "metadata": {
        "id": "kTG3M5lq5otq"
      }
    },
    {
      "cell_type": "markdown",
      "source": [
        "## **Q1**"
      ],
      "metadata": {
        "id": "0E7ur0Wa510A"
      }
    },
    {
      "cell_type": "code",
      "source": [
        "L=[11,12,13,14]"
      ],
      "metadata": {
        "id": "TSoWJcxz537F"
      },
      "execution_count": 1,
      "outputs": []
    },
    {
      "cell_type": "code",
      "source": [
        "#I\n",
        "mylist=[x+50 for x in L]\n",
        "MyList=[x+60 for x in L]\n",
        "print(mylist)\n",
        "print(MyList)"
      ],
      "metadata": {
        "colab": {
          "base_uri": "https://localhost:8080/"
        },
        "id": "HKSbapZE5_Hw",
        "outputId": "bbdcfef6-3193-458d-9c42-dcd6572296e0"
      },
      "execution_count": 2,
      "outputs": [
        {
          "output_type": "stream",
          "name": "stdout",
          "text": [
            "[61, 62, 63, 64]\n",
            "[71, 72, 73, 74]\n"
          ]
        }
      ]
    },
    {
      "cell_type": "code",
      "source": [
        "# II\n",
        "L.remove(11)\n",
        "L.remove(13)\n",
        "print(L)"
      ],
      "metadata": {
        "colab": {
          "base_uri": "https://localhost:8080/"
        },
        "id": "qgnx7f9G6TNM",
        "outputId": "cd770826-fadc-4052-8aa5-c58746c841bf"
      },
      "execution_count": 4,
      "outputs": [
        {
          "output_type": "stream",
          "name": "stdout",
          "text": [
            "[12, 14]\n"
          ]
        }
      ]
    },
    {
      "cell_type": "code",
      "source": [
        "# III and IV\n",
        "L=[11,12,13,14]\n",
        "L.sort()\n",
        "print(L)\n",
        "L.sort(reverse=True)\n",
        "print(L)\n"
      ],
      "metadata": {
        "colab": {
          "base_uri": "https://localhost:8080/"
        },
        "id": "KytcQ2n36jPp",
        "outputId": "4c84a499-307c-4005-8543-6c4b3897f672"
      },
      "execution_count": 5,
      "outputs": [
        {
          "output_type": "stream",
          "name": "stdout",
          "text": [
            "[11, 12, 13, 14]\n",
            "[14, 13, 12, 11]\n"
          ]
        }
      ]
    },
    {
      "cell_type": "code",
      "source": [
        "# V\n",
        "L=[11,12,13,14]\n",
        "if (13 in L)==True:\n",
        "  print(\"Yes\")\n",
        "else:\n",
        "  print(\"No\")"
      ],
      "metadata": {
        "colab": {
          "base_uri": "https://localhost:8080/"
        },
        "id": "MmgCL4og63Lg",
        "outputId": "e58ad223-194f-4b7e-c1c3-03720b55d3b6"
      },
      "execution_count": 6,
      "outputs": [
        {
          "output_type": "stream",
          "name": "stdout",
          "text": [
            "Yes\n"
          ]
        }
      ]
    },
    {
      "cell_type": "code",
      "source": [
        "#VI\n",
        "print(len(L))"
      ],
      "metadata": {
        "colab": {
          "base_uri": "https://localhost:8080/"
        },
        "id": "L97oapTk7Gn3",
        "outputId": "dd9abc70-9869-4c4c-aa61-6448705e46f0"
      },
      "execution_count": 9,
      "outputs": [
        {
          "output_type": "stream",
          "name": "stdout",
          "text": [
            "4\n"
          ]
        }
      ]
    },
    {
      "cell_type": "code",
      "source": [
        "#VII\n",
        "print(sum(L))"
      ],
      "metadata": {
        "colab": {
          "base_uri": "https://localhost:8080/"
        },
        "id": "AfbM_vDr7OtY",
        "outputId": "e4358633-7fe4-4255-c5cc-f93d1b01569c"
      },
      "execution_count": 10,
      "outputs": [
        {
          "output_type": "stream",
          "name": "stdout",
          "text": [
            "50\n"
          ]
        }
      ]
    },
    {
      "cell_type": "code",
      "source": [
        "#VIII\n",
        "sum=0\n",
        "for x in L:\n",
        "  if x%2!=0:\n",
        "    sum=sum+x\n",
        "\n",
        "print(sum)"
      ],
      "metadata": {
        "colab": {
          "base_uri": "https://localhost:8080/"
        },
        "id": "RHCuR6Rs7Yyb",
        "outputId": "09f180d1-826c-45bc-e45d-65d651cbce42"
      },
      "execution_count": 11,
      "outputs": [
        {
          "output_type": "stream",
          "name": "stdout",
          "text": [
            "24\n"
          ]
        }
      ]
    },
    {
      "cell_type": "code",
      "source": [
        "# IX\n",
        "sum=0\n",
        "for x in L:\n",
        "  if x%2==0:\n",
        "    sum=sum+x\n",
        "\n",
        "print(sum)"
      ],
      "metadata": {
        "colab": {
          "base_uri": "https://localhost:8080/"
        },
        "id": "zcNJW_dZ7plJ",
        "outputId": "89cebf35-fce8-4cbe-d083-b3f3fcdc0f98"
      },
      "execution_count": 12,
      "outputs": [
        {
          "output_type": "stream",
          "name": "stdout",
          "text": [
            "26\n"
          ]
        }
      ]
    },
    {
      "cell_type": "code",
      "source": [
        "#X\n",
        "sum=0\n",
        "for x in L:\n",
        "  flag=0\n",
        "  for i in range(2,x):\n",
        "    if x%i==0:\n",
        "      flag=1\n",
        "      break\n",
        "  if flag==0:\n",
        "   sum=sum+x\n",
        "print(sum)"
      ],
      "metadata": {
        "colab": {
          "base_uri": "https://localhost:8080/"
        },
        "id": "ocKEE7JR7tYN",
        "outputId": "a8464bbf-6308-4a4a-8220-df94142c401d"
      },
      "execution_count": 14,
      "outputs": [
        {
          "output_type": "stream",
          "name": "stdout",
          "text": [
            "24\n"
          ]
        }
      ]
    },
    {
      "cell_type": "code",
      "source": [
        "#XI\n",
        "L.clear()\n",
        "print(L)"
      ],
      "metadata": {
        "colab": {
          "base_uri": "https://localhost:8080/"
        },
        "id": "Cq2q2TYb8niQ",
        "outputId": "162b4eb7-3e35-4715-e88a-5cbfb8ecd733"
      },
      "execution_count": 16,
      "outputs": [
        {
          "output_type": "stream",
          "name": "stdout",
          "text": [
            "[]\n"
          ]
        }
      ]
    },
    {
      "cell_type": "code",
      "source": [
        "#XII\n",
        "del L"
      ],
      "metadata": {
        "id": "O6wcZ-YM8vXD"
      },
      "execution_count": 17,
      "outputs": []
    },
    {
      "cell_type": "markdown",
      "source": [
        "## **Q2**"
      ],
      "metadata": {
        "id": "9dvZiVcV81Tn"
      }
    },
    {
      "cell_type": "code",
      "source": [
        "D={1:5.6,2:7.8,3:6.6,4:8.7,5:7.7}"
      ],
      "metadata": {
        "id": "689ag7iZ86lH"
      },
      "execution_count": 22,
      "outputs": []
    },
    {
      "cell_type": "code",
      "source": [
        "#I\n",
        "D[8]=8.8\n",
        "print(D)"
      ],
      "metadata": {
        "colab": {
          "base_uri": "https://localhost:8080/"
        },
        "id": "6EDea4Ge9PVy",
        "outputId": "98310948-8045-4ee4-dbb7-cec237c9937f"
      },
      "execution_count": 23,
      "outputs": [
        {
          "output_type": "stream",
          "name": "stdout",
          "text": [
            "{1: 5.6, 2: 7.8, 3: 6.6, 4: 8.7, 5: 7.7, 8: 8.8}\n"
          ]
        }
      ]
    },
    {
      "cell_type": "code",
      "source": [
        "#II\n",
        "del D[2]\n",
        "print(D)\n"
      ],
      "metadata": {
        "colab": {
          "base_uri": "https://localhost:8080/"
        },
        "id": "rQP_f-J39a64",
        "outputId": "a8d8d859-c053-4679-d352-2b55f8f95922"
      },
      "execution_count": 24,
      "outputs": [
        {
          "output_type": "stream",
          "name": "stdout",
          "text": [
            "{1: 5.6, 3: 6.6, 4: 8.7, 5: 7.7, 8: 8.8}\n"
          ]
        }
      ]
    },
    {
      "cell_type": "code",
      "source": [
        "#iii\n",
        "if 6 in D.keys():\n",
        "  print(\"yes\")\n",
        "else:\n",
        "  print(\"No\")"
      ],
      "metadata": {
        "colab": {
          "base_uri": "https://localhost:8080/"
        },
        "id": "v2ZttyGq9q9t",
        "outputId": "37744937-422d-4f3c-9055-0e435fe0de82"
      },
      "execution_count": 28,
      "outputs": [
        {
          "output_type": "stream",
          "name": "stdout",
          "text": [
            "No\n"
          ]
        }
      ]
    },
    {
      "cell_type": "code",
      "source": [
        "#iv\n",
        "print(len(D))"
      ],
      "metadata": {
        "colab": {
          "base_uri": "https://localhost:8080/"
        },
        "id": "zDrT0fkd-Ayk",
        "outputId": "9921e053-1b26-4589-b598-3e03a9e5ff3c"
      },
      "execution_count": 29,
      "outputs": [
        {
          "output_type": "stream",
          "name": "stdout",
          "text": [
            "5\n"
          ]
        }
      ]
    },
    {
      "cell_type": "code",
      "source": [
        "# V\n",
        "sum=0\n",
        "for x in D:\n",
        "  sum=sum+D[x]\n",
        "\n",
        "print(sum)"
      ],
      "metadata": {
        "colab": {
          "base_uri": "https://localhost:8080/"
        },
        "id": "xPpg-vXD-J_5",
        "outputId": "e350937f-021a-43b3-8ed2-bb57fa2fdd90"
      },
      "execution_count": 30,
      "outputs": [
        {
          "output_type": "stream",
          "name": "stdout",
          "text": [
            "37.4\n"
          ]
        }
      ]
    },
    {
      "cell_type": "code",
      "source": [
        "# VI\n",
        "D[3]=7.1\n",
        "print(D)"
      ],
      "metadata": {
        "colab": {
          "base_uri": "https://localhost:8080/"
        },
        "id": "ZTFMkf8t-fDR",
        "outputId": "1cad52bb-d5be-4bf1-dcc8-ffb0d885629a"
      },
      "execution_count": 31,
      "outputs": [
        {
          "output_type": "stream",
          "name": "stdout",
          "text": [
            "{1: 5.6, 3: 7.1, 4: 8.7, 5: 7.7, 8: 8.8}\n"
          ]
        }
      ]
    },
    {
      "cell_type": "code",
      "source": [
        "#VII\n",
        "D.clear()\n",
        "print(D)"
      ],
      "metadata": {
        "colab": {
          "base_uri": "https://localhost:8080/"
        },
        "id": "L35QRH2y-qD9",
        "outputId": "db70b642-a9c5-413e-8468-02d1c0807dbe"
      },
      "execution_count": 32,
      "outputs": [
        {
          "output_type": "stream",
          "name": "stdout",
          "text": [
            "{}\n"
          ]
        }
      ]
    },
    {
      "cell_type": "markdown",
      "source": [
        "## **Q3**"
      ],
      "metadata": {
        "id": "82_5CJi3_Jb9"
      }
    },
    {
      "cell_type": "code",
      "source": [
        "S1={10,20,30,40,50,60}\n",
        "S2={40,50,60,70,80,90}\n",
        "print(S1)\n",
        "print(S2)"
      ],
      "metadata": {
        "colab": {
          "base_uri": "https://localhost:8080/"
        },
        "id": "-pTtCTOe_NqB",
        "outputId": "9585fb13-ece9-42d1-d746-42bfb37a93a5"
      },
      "execution_count": 39,
      "outputs": [
        {
          "output_type": "stream",
          "name": "stdout",
          "text": [
            "{50, 20, 40, 10, 60, 30}\n",
            "{80, 50, 70, 40, 90, 60}\n"
          ]
        }
      ]
    },
    {
      "cell_type": "code",
      "source": [
        "# I\n",
        "S3={ x+55 for x in S1}\n",
        "print(S3)\n",
        "S4={ x+65 for x in S1}\n",
        "print(S4)"
      ],
      "metadata": {
        "colab": {
          "base_uri": "https://localhost:8080/"
        },
        "id": "JOofcBym_tz2",
        "outputId": "c0234c1f-5294-48c6-c974-cd625f5c67bd"
      },
      "execution_count": 40,
      "outputs": [
        {
          "output_type": "stream",
          "name": "stdout",
          "text": [
            "{65, 105, 75, 115, 85, 95}\n",
            "{105, 75, 115, 85, 125, 95}\n"
          ]
        }
      ]
    },
    {
      "cell_type": "code",
      "source": [
        "# II\n",
        "S1.remove(10)\n",
        "S1.remove(30)\n",
        "print(S1)"
      ],
      "metadata": {
        "colab": {
          "base_uri": "https://localhost:8080/"
        },
        "id": "lggjWLBfAYJf",
        "outputId": "096a9b86-ab11-4991-f1d2-9f220309d946"
      },
      "execution_count": 41,
      "outputs": [
        {
          "output_type": "stream",
          "name": "stdout",
          "text": [
            "{50, 20, 40, 60}\n"
          ]
        }
      ]
    },
    {
      "cell_type": "code",
      "source": [
        "#III\n",
        "if (40 in S1)==True:\n",
        "  print('True')\n",
        "else:\n",
        "  print(\"False\")"
      ],
      "metadata": {
        "colab": {
          "base_uri": "https://localhost:8080/"
        },
        "id": "aApZ2tZdAifg",
        "outputId": "d1e59145-71b5-4517-d0c1-2533c7a20243"
      },
      "execution_count": 44,
      "outputs": [
        {
          "output_type": "stream",
          "name": "stdout",
          "text": [
            "True\n"
          ]
        }
      ]
    },
    {
      "cell_type": "code",
      "source": [
        "# IV\n",
        "print(S1.union(S2))"
      ],
      "metadata": {
        "colab": {
          "base_uri": "https://localhost:8080/"
        },
        "id": "zIINPG-nA2lI",
        "outputId": "a28441bd-e84b-43de-fb81-8367dd20b482"
      },
      "execution_count": 45,
      "outputs": [
        {
          "output_type": "stream",
          "name": "stdout",
          "text": [
            "{70, 40, 80, 50, 20, 90, 60}\n"
          ]
        }
      ]
    },
    {
      "cell_type": "code",
      "source": [
        "# V\n",
        "print(S1.intersection(S2))"
      ],
      "metadata": {
        "colab": {
          "base_uri": "https://localhost:8080/"
        },
        "id": "KHLTKt7jBY3j",
        "outputId": "924d2866-c370-4af8-a04e-28590839e6ce"
      },
      "execution_count": 46,
      "outputs": [
        {
          "output_type": "stream",
          "name": "stdout",
          "text": [
            "{40, 50, 60}\n"
          ]
        }
      ]
    },
    {
      "cell_type": "code",
      "source": [
        "#VI\n",
        "print(S1-S2)"
      ],
      "metadata": {
        "colab": {
          "base_uri": "https://localhost:8080/"
        },
        "id": "h1WrRf4pBeh4",
        "outputId": "328cfb32-ae97-414e-ffa0-1b122501343e"
      },
      "execution_count": 47,
      "outputs": [
        {
          "output_type": "stream",
          "name": "stdout",
          "text": [
            "{20}\n"
          ]
        }
      ]
    },
    {
      "cell_type": "markdown",
      "source": [
        "## **Q4**"
      ],
      "metadata": {
        "id": "79qXRnOeBrkh"
      }
    },
    {
      "cell_type": "code",
      "source": [
        "# i\n",
        "import random\n",
        "import string\n",
        "for i in range(1,101):\n",
        "  length=random.randint(6,8)\n",
        "  print(\"\".join(random.sample(string.ascii_letters,length)))"
      ],
      "metadata": {
        "colab": {
          "base_uri": "https://localhost:8080/"
        },
        "id": "s3qYS0ShBvry",
        "outputId": "e87c19c2-f4e7-4681-9cb4-361c38ab9358"
      },
      "execution_count": 57,
      "outputs": [
        {
          "output_type": "stream",
          "name": "stdout",
          "text": [
            "gJhXAMof\n",
            "jhAgvED\n",
            "SqeRtJC\n",
            "XZnEovkx\n",
            "RqlKrJLw\n",
            "SwvrDzb\n",
            "IcOevM\n",
            "ijTBgC\n",
            "FwpxorZO\n",
            "YBKCcVp\n",
            "JwblLXuc\n",
            "PpeUsXwm\n",
            "bJZeIC\n",
            "OFsIZur\n",
            "LkJNXHA\n",
            "DSZAYM\n",
            "sLboFy\n",
            "WfEAayrc\n",
            "DAfcajO\n",
            "CwKUIhr\n",
            "zXthAde\n",
            "XLsmOyd\n",
            "iXnkFYp\n",
            "flhPBGJ\n",
            "syoMJC\n",
            "JgXWsZp\n",
            "aIDAUTVm\n",
            "BqTyJVou\n",
            "QYsojWk\n",
            "nsSTOeuG\n",
            "ImwLnCd\n",
            "octNCnm\n",
            "xfsEcpH\n",
            "spyGCPdI\n",
            "fQOcnC\n",
            "zQrgTud\n",
            "Zckmnw\n",
            "tTZepW\n",
            "MHICKVRy\n",
            "qRvLdFO\n",
            "FhHREfD\n",
            "shGYkK\n",
            "EnXPTlDp\n",
            "nFbAePTU\n",
            "ypFbzL\n",
            "QRBHFDm\n",
            "qNBiEy\n",
            "SBrtJKD\n",
            "zWlQqZB\n",
            "WTRexg\n",
            "vzxTIGU\n",
            "rDVEXyg\n",
            "ZyFReWrq\n",
            "NxHmVRgv\n",
            "eyRsDMJ\n",
            "fnLdTmkO\n",
            "hgwlXOZ\n",
            "kwAixX\n",
            "BzLTgwHv\n",
            "qCcjzE\n",
            "PIFvLz\n",
            "zONRwhC\n",
            "jeIOSMzK\n",
            "NxKlJpWk\n",
            "NTGSzPrk\n",
            "mTQOai\n",
            "BRNcegv\n",
            "mvXifxC\n",
            "SWrmxIK\n",
            "luVhAf\n",
            "FdBAfN\n",
            "MAqDxV\n",
            "CGSBuoKI\n",
            "gEAXze\n",
            "pQeTbgn\n",
            "QKCRod\n",
            "HWeTho\n",
            "gxGytK\n",
            "wuHWPAJQ\n",
            "DPmzWynN\n",
            "dlKvcxH\n",
            "ANfpoL\n",
            "jSBzLs\n",
            "AdCpkfcz\n",
            "FUOVqH\n",
            "UGXZMu\n",
            "sIbKdweE\n",
            "BslCAgZT\n",
            "srcNFP\n",
            "ndjVtkP\n",
            "bXjmJCF\n",
            "AJZfSse\n",
            "LdoxSB\n",
            "fuPasz\n",
            "ADOvaI\n",
            "nFpCvAty\n",
            "gjTyLFMs\n",
            "znWbKr\n",
            "PNlUfIyQ\n",
            "tGisCfSW\n"
          ]
        }
      ]
    },
    {
      "cell_type": "code",
      "source": [
        "# ii\n",
        "for i in range(600,800):\n",
        "  flag=0\n",
        "  for j in range(2,i):\n",
        "    if i%j==0:\n",
        "      flag=1\n",
        "      break\n",
        "  if flag==0:\n",
        "    print(i)"
      ],
      "metadata": {
        "colab": {
          "base_uri": "https://localhost:8080/"
        },
        "id": "zhrpTAfOEUGz",
        "outputId": "cc4b0e70-b3df-4712-d98c-b08ded83ccda"
      },
      "execution_count": 58,
      "outputs": [
        {
          "output_type": "stream",
          "name": "stdout",
          "text": [
            "601\n",
            "607\n",
            "613\n",
            "617\n",
            "619\n",
            "631\n",
            "641\n",
            "643\n",
            "647\n",
            "653\n",
            "659\n",
            "661\n",
            "673\n",
            "677\n",
            "683\n",
            "691\n",
            "701\n",
            "709\n",
            "719\n",
            "727\n",
            "733\n",
            "739\n",
            "743\n",
            "751\n",
            "757\n",
            "761\n",
            "769\n",
            "773\n",
            "787\n",
            "797\n"
          ]
        }
      ]
    },
    {
      "cell_type": "code",
      "source": [
        "#IV\n",
        "for i in range(100,1000):\n",
        "  if i%7==0 and i%9==0:\n",
        "    print(i)"
      ],
      "metadata": {
        "colab": {
          "base_uri": "https://localhost:8080/"
        },
        "id": "X3pgQYKZEu58",
        "outputId": "ce7a82cd-41b4-450c-cceb-764594c96588"
      },
      "execution_count": 59,
      "outputs": [
        {
          "output_type": "stream",
          "name": "stdout",
          "text": [
            "126\n",
            "189\n",
            "252\n",
            "315\n",
            "378\n",
            "441\n",
            "504\n",
            "567\n",
            "630\n",
            "693\n",
            "756\n",
            "819\n",
            "882\n",
            "945\n"
          ]
        }
      ]
    },
    {
      "cell_type": "markdown",
      "source": [
        "## **Q5**"
      ],
      "metadata": {
        "id": "vkQ-w8KtFXeD"
      }
    },
    {
      "cell_type": "code",
      "source": [
        "l=[]\n",
        "for i in range (0,10):\n",
        "  l.append(random.randint(10,30))\n"
      ],
      "metadata": {
        "id": "1ywlMQ3NFaSq"
      },
      "execution_count": 63,
      "outputs": []
    },
    {
      "cell_type": "code",
      "source": [
        "print(l)"
      ],
      "metadata": {
        "colab": {
          "base_uri": "https://localhost:8080/"
        },
        "id": "8uTLK7wGGH93",
        "outputId": "07bddf2f-58a1-430c-a61f-a4f2c72e186d"
      },
      "execution_count": 64,
      "outputs": [
        {
          "output_type": "stream",
          "name": "stdout",
          "text": [
            "[14, 16, 14, 26, 19, 14, 21, 11, 16, 22]\n"
          ]
        }
      ]
    },
    {
      "cell_type": "code",
      "source": [
        "l1=[]\n",
        "for i in range(0,10):\n",
        "  l1.append(random.randint(10,30))\n",
        "\n",
        "print(l1)"
      ],
      "metadata": {
        "colab": {
          "base_uri": "https://localhost:8080/"
        },
        "id": "SruAJgsPGNhw",
        "outputId": "8fc2c59a-eb54-4ec8-d4a6-c44d10dfb035"
      },
      "execution_count": 65,
      "outputs": [
        {
          "output_type": "stream",
          "name": "stdout",
          "text": [
            "[28, 27, 24, 24, 16, 11, 20, 23, 16, 10]\n"
          ]
        }
      ]
    },
    {
      "cell_type": "code",
      "source": [
        "# I\n",
        "L3=[]\n",
        "for i in range(0,10):\n",
        "  for j in range(0,10):\n",
        "    if l[i]==l1[j]:\n",
        "      L3.append(l[i])\n",
        "      break\n",
        "\n",
        "print(L3)\n"
      ],
      "metadata": {
        "colab": {
          "base_uri": "https://localhost:8080/"
        },
        "id": "b9oXGgEUGFLr",
        "outputId": "d32c630b-3f7f-4462-eba4-8cb7f1c5a8e5"
      },
      "execution_count": 69,
      "outputs": [
        {
          "output_type": "stream",
          "name": "stdout",
          "text": [
            "[16, 11, 16]\n"
          ]
        }
      ]
    },
    {
      "cell_type": "code",
      "source": [
        "#I  Having Less Time Complexity\n",
        "s1=set(l)\n",
        "s2=set(l1)\n",
        "print(s1.intersection(s2))"
      ],
      "metadata": {
        "colab": {
          "base_uri": "https://localhost:8080/"
        },
        "id": "XNHCM3QBHxAB",
        "outputId": "3eb65ad1-fb4a-464a-d685-8f17c02e16a1"
      },
      "execution_count": 70,
      "outputs": [
        {
          "output_type": "stream",
          "name": "stdout",
          "text": [
            "{16, 11}\n"
          ]
        }
      ]
    },
    {
      "cell_type": "code",
      "source": [
        "#II\n",
        "print(s1-s2)\n",
        "print(s2-s1)"
      ],
      "metadata": {
        "colab": {
          "base_uri": "https://localhost:8080/"
        },
        "id": "9w32BCRnIhYl",
        "outputId": "5ab0d841-0b91-46fd-f5f5-a7a08a82c474"
      },
      "execution_count": 71,
      "outputs": [
        {
          "output_type": "stream",
          "name": "stdout",
          "text": [
            "{14, 19, 21, 22, 26}\n",
            "{10, 20, 23, 24, 27, 28}\n"
          ]
        }
      ]
    },
    {
      "cell_type": "code",
      "source": [
        "#III\n",
        "print(min(l and l1))"
      ],
      "metadata": {
        "colab": {
          "base_uri": "https://localhost:8080/"
        },
        "id": "s08Tl13XIxGX",
        "outputId": "adce3a04-336b-420c-a55a-64fea5a8ee54"
      },
      "execution_count": 72,
      "outputs": [
        {
          "output_type": "stream",
          "name": "stdout",
          "text": [
            "10\n"
          ]
        }
      ]
    },
    {
      "cell_type": "code",
      "source": [
        "#IV\n",
        "print(max(l and l1))"
      ],
      "metadata": {
        "colab": {
          "base_uri": "https://localhost:8080/"
        },
        "id": "bpsSbSdLI7wP",
        "outputId": "d8421bd8-151b-41fb-eb6a-585cdc390fe6"
      },
      "execution_count": 73,
      "outputs": [
        {
          "output_type": "stream",
          "name": "stdout",
          "text": [
            "28\n"
          ]
        }
      ]
    },
    {
      "cell_type": "code",
      "source": [
        "#V\n",
        "l2=l+l1\n",
        "print(l2)\n",
        "sum=0\n",
        "for s in l:\n",
        "  sum=sum+s\n",
        "\n",
        "print(sum)\n"
      ],
      "metadata": {
        "colab": {
          "base_uri": "https://localhost:8080/"
        },
        "id": "J38MBZiNI_36",
        "outputId": "d43abd16-93a2-4e10-f8cf-84a50fe2031b"
      },
      "execution_count": 77,
      "outputs": [
        {
          "output_type": "stream",
          "name": "stdout",
          "text": [
            "[14, 16, 14, 26, 19, 14, 21, 11, 16, 22, 28, 27, 24, 24, 16, 11, 20, 23, 16, 10]\n",
            "173\n"
          ]
        }
      ]
    },
    {
      "cell_type": "markdown",
      "source": [
        "## **Q6**"
      ],
      "metadata": {
        "id": "1TgDfHQjJr8_"
      }
    },
    {
      "cell_type": "code",
      "source": [
        "import random\n",
        "L=[random.randint(100,900) for x in range(0,100) ]\n",
        "print(L)"
      ],
      "metadata": {
        "colab": {
          "base_uri": "https://localhost:8080/"
        },
        "id": "yX-RANAA9cFi",
        "outputId": "d6f0e156-cac5-4001-db46-b823b711683e"
      },
      "execution_count": 2,
      "outputs": [
        {
          "output_type": "stream",
          "name": "stdout",
          "text": [
            "[696, 310, 137, 589, 469, 867, 887, 727, 128, 677, 726, 166, 149, 434, 586, 559, 329, 793, 843, 219, 353, 588, 577, 121, 335, 728, 705, 704, 590, 417, 457, 739, 454, 880, 724, 335, 250, 205, 337, 205, 291, 880, 474, 778, 410, 574, 144, 681, 133, 341, 369, 744, 732, 221, 830, 895, 367, 712, 341, 583, 244, 234, 513, 856, 452, 765, 842, 405, 662, 325, 530, 873, 404, 691, 612, 364, 238, 466, 731, 313, 765, 450, 188, 655, 292, 660, 255, 707, 728, 488, 729, 124, 387, 302, 258, 287, 607, 232, 460, 421]\n"
          ]
        }
      ]
    },
    {
      "cell_type": "code",
      "source": [
        "# I\n",
        "for s in L:\n",
        "  if s%2!=0: print(s)"
      ],
      "metadata": {
        "colab": {
          "base_uri": "https://localhost:8080/"
        },
        "id": "G7qQx1RQ-Odu",
        "outputId": "22f41d94-c362-4799-b454-3ada02a0fe36"
      },
      "execution_count": 3,
      "outputs": [
        {
          "output_type": "stream",
          "name": "stdout",
          "text": [
            "137\n",
            "589\n",
            "469\n",
            "867\n",
            "887\n",
            "727\n",
            "677\n",
            "149\n",
            "559\n",
            "329\n",
            "793\n",
            "843\n",
            "219\n",
            "353\n",
            "577\n",
            "121\n",
            "335\n",
            "705\n",
            "417\n",
            "457\n",
            "739\n",
            "335\n",
            "205\n",
            "337\n",
            "205\n",
            "291\n",
            "681\n",
            "133\n",
            "341\n",
            "369\n",
            "221\n",
            "895\n",
            "367\n",
            "341\n",
            "583\n",
            "513\n",
            "765\n",
            "405\n",
            "325\n",
            "873\n",
            "691\n",
            "731\n",
            "313\n",
            "765\n",
            "655\n",
            "255\n",
            "707\n",
            "729\n",
            "387\n",
            "287\n",
            "607\n",
            "421\n"
          ]
        }
      ]
    },
    {
      "cell_type": "code",
      "source": [
        "# II\n",
        "for s in L:\n",
        "  if s%2==0: print(s)"
      ],
      "metadata": {
        "colab": {
          "base_uri": "https://localhost:8080/"
        },
        "id": "BC0nsKKv-b2q",
        "outputId": "fcb4f824-ba39-4613-8c1d-7809f2d994cb"
      },
      "execution_count": 4,
      "outputs": [
        {
          "output_type": "stream",
          "name": "stdout",
          "text": [
            "696\n",
            "310\n",
            "128\n",
            "726\n",
            "166\n",
            "434\n",
            "586\n",
            "588\n",
            "728\n",
            "704\n",
            "590\n",
            "454\n",
            "880\n",
            "724\n",
            "250\n",
            "880\n",
            "474\n",
            "778\n",
            "410\n",
            "574\n",
            "144\n",
            "744\n",
            "732\n",
            "830\n",
            "712\n",
            "244\n",
            "234\n",
            "856\n",
            "452\n",
            "842\n",
            "662\n",
            "530\n",
            "404\n",
            "612\n",
            "364\n",
            "238\n",
            "466\n",
            "450\n",
            "188\n",
            "292\n",
            "660\n",
            "728\n",
            "488\n",
            "124\n",
            "302\n",
            "258\n",
            "232\n",
            "460\n"
          ]
        }
      ]
    },
    {
      "cell_type": "code",
      "source": [
        "# III\n",
        "for s in L:\n",
        "  flag=0\n",
        "  for i in range(2,s):\n",
        "    if s%i==0:\n",
        "      flag=1\n",
        "      break\n",
        "  if flag==0:\n",
        "    print(s)\n",
        "\n"
      ],
      "metadata": {
        "colab": {
          "base_uri": "https://localhost:8080/"
        },
        "id": "sNnUj8V9-jMA",
        "outputId": "f4dcf7e8-74ef-4152-ea5a-3ba94baec840"
      },
      "execution_count": 6,
      "outputs": [
        {
          "output_type": "stream",
          "name": "stdout",
          "text": [
            "137\n",
            "887\n",
            "727\n",
            "677\n",
            "149\n",
            "353\n",
            "577\n",
            "457\n",
            "739\n",
            "337\n",
            "367\n",
            "691\n",
            "313\n",
            "607\n",
            "421\n"
          ]
        }
      ]
    }
  ]
}